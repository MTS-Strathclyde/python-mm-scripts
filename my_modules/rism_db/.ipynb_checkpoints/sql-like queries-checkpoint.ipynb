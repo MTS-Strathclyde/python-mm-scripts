{
 "metadata": {
  "name": ""
 },
 "nbformat": 3,
 "nbformat_minor": 0,
 "worksheets": [
  {
   "cells": [
    {
     "cell_type": "code",
     "collapsed": false,
     "input": [
      "from solvation_database import Molecule, Conformation, Experiment\n",
      "from solvation_database import Calculation, RISMCalculation, CMCalculation\n",
      "from db_interface import DBInterface, create_session\n",
      "import csv\n",
      "import pandas\n",
      "\n",
      "ses = create_session()"
     ],
     "language": "python",
     "metadata": {},
     "outputs": [],
     "prompt_number": 1
    },
    {
     "cell_type": "code",
     "collapsed": false,
     "input": [
      "# Quering molecules which don't have any calculations associated with them.\n",
      "\n",
      "\n",
      "for mol in ses.query(Molecule).outerjoin(Conformation).filter(Conformation.Calculations == None).all():\n",
      "    print mol"
     ],
     "language": "python",
     "metadata": {},
     "outputs": [
      {
       "output_type": "stream",
       "stream": "stdout",
       "text": [
        "Molecule : INCHI = InChI=1S/C12H6Cl2O2/c13-7-1-3-9-11(5-7)16-12-6-8(14)2-4-10(12)15-9/h1-6H\n",
        "Molecule : INCHI = InChI=1S/C8H11N/c1-2-7-5-3-4-6-8(7)9/h3-6H,2,9H2,1H3\n",
        "Molecule : INCHI = InChI=1S/C6H11N/c1-6(2)4-3-5-7/h6H,3-4H2,1-2H3\n",
        "Molecule : INCHI = InChI=1S/2C6H12O2/c1-5(2)4-8-6(3)7;1-5(2)3-4-6(7)8/h5H,4H2,1-3H3;5H,3-4H2,1-2H3,(H,7,8)\n",
        "Molecule : INCHI = InChI=1S/2C6H14O/c2*1-3-5-6-7-4-2/h2*3-6H2,1-2H3\n",
        "Molecule : INCHI = InChI=1S/C7H14O2/c1-4-9-7(8)5-6(2)3/h6H,4-5H2,1-3H3\n",
        "Molecule : INCHI = InChI=1S/C12H6Cl2O2/c13-7-1-3-9-11(5-7)16-10-4-2-8(14)6-12(10)15-9/h1-6H\n",
        "Molecule : INCHI = InChI=1S/C6H12O/c1-5-3-4-6(2)7-5/h5-6H,3-4H2,1-2H3\n",
        "Molecule : INCHI = InChI=1S/2C6H12O2/c1-3-5-6(7)8-4-2;1-3-5(4-2)6(7)8/h3-5H2,1-2H3;5H,3-4H2,1-2H3,(H,7,8)\n",
        "Molecule : INCHI = InChI=1S/C7H16O/c1-3-5-6-7(8)4-2/h7-8H,3-6H2,1-2H3\n",
        "Molecule : INCHI = InChI=1S/C5H12O/c1-3-4-5(2)6/h5-6H,3-4H2,1-2H3\n",
        "Molecule : INCHI = InChI=1S/2C5H10O2/c1-5(2)3-7-4-6;1-4(2)3-5(6)7/h4-5H,3H2,1-2H3;4H,3H2,1-2H3,(H,6,7)\n",
        "Molecule : INCHI = InChI=1S/2C6H12O2/c1-3-4-5-8-6(2)7;1-2-3-4-5-6(7)8/h3-5H2,1-2H3;2-5H2,1H3,(H,7,8)\n",
        "Molecule : INCHI = InChI=1S/C9H18O/c1-7(2)5-9(10)6-8(3)4/h7-8H,5-6H2,1-4H3\n",
        "Molecule : INCHI = InChI=1S/2C5H10O2/c1-3-4-7-5(2)6;1-2-3-4-5(6)7/h3-4H2,1-2H3;2-4H2,1H3,(H,6,7)\n",
        "Molecule : INCHI = InChI=1S/C7H16O/c1-4-7(8,5-2)6-3/h8H,4-6H2,1-3H3\n",
        "Molecule : INCHI = InChI=1S/C2H6OS/c1-4(2)3/h1-2H3\n",
        "Molecule : INCHI = InChI=1S/C8H18O/c1-3-4-5-6-7-8(2)9/h8-9H,3-7H2,1-2H3\n",
        "Molecule : INCHI = InChI=1S/C8H16/c1-7-5-3-4-6-8(7)2/h7-8H,3-6H2,1-2H3/t7-,8-/m1/s1\n",
        "Molecule : INCHI = InChI=1S/2C4H8O2/c1-3-6-4(2)5;1-2-3-4(5)6/h3H2,1-2H3;2-3H2,1H3,(H,5,6)\n",
        "Molecule : INCHI = InChI=1S/C8H16/c1-2-4-6-8-7-5-3-1/h1-8H2\n",
        "Molecule : INCHI = InChI=1S/2C7H8O/c2*1-6-3-2-4-7(8)5-6/h2*2-5,8H,1H3\n",
        "Molecule : INCHI = InChI=1S/C5H12O/c1-4(2)5(3)6/h4-6H,1-3H3\n",
        "Molecule : INCHI = InChI=1S/C6H14O/c1-4-5(2)6(3)7/h5-7H,4H2,1-3H3\n",
        "Molecule : INCHI = InChI=1S/C12H7Cl3/c13-9-3-1-8(2-4-9)11-6-5-10(14)7-12(11)15/h1-7H\n",
        "Molecule : INCHI = InChI=1S/C7H14O/c1-6-2-4-7(8)5-3-6/h6-8H,2-5H2,1H3\n",
        "Molecule : INCHI = InChI=1S/C12H7ClO2/c13-8-5-6-11-12(7-8)15-10-4-2-1-3-9(10)14-11/h1-7H\n",
        "Molecule : INCHI = InChI=1S/C3H7NO5/c5-1-3(6)2-9-4(7)8/h3,5-6H,1-2H2\n",
        "Molecule : INCHI = InChI=1S/C9H20O/c1-3-4-5-6-7-8-9(2)10/h9-10H,3-8H2,1-2H3\n",
        "Molecule : INCHI = InChI=1S/C3H4F4O/c4-2(5)3(6,7)1-8/h2,8H,1H2\n",
        "Molecule : INCHI = InChI=1S/C7H14O2.C6H12O2/c1-3-4-5-6-9-7(2)8;1-2-3-4-5-6(7)8/h3-6H2,1-2H3;2-5H2,1H3,(H,7,8)\n",
        "Molecule : INCHI = InChI=1S/C4H5N/c1-4(2)3-5/h1H2,2H3\n",
        "Molecule : INCHI = InChI=1S/C6H12Cl2O/c1-5(3-7)9-6(2)4-8/h5-6H,3-4H2,1-2H3\n",
        "Molecule : INCHI = InChI=1S/C2Cl4F2/c3-1(4,7)2(5,6)8\n",
        "Molecule : INCHI = InChI=1S/C6H14O/c1-4-6(7)5(2)3/h5-7H,4H2,1-3H3\n",
        "Molecule : INCHI = InChI=1S/C4H8O2/c1-3(2)4(5)6/h3H,1-2H3,(H,5,6)\n",
        "Molecule : INCHI = InChI=1S/C7H15N/c1-2-4-6-8-7-5-3-1/h8H,1-7H2\n",
        "Molecule : INCHI = InChI=1S/C3H4O2/c1-3(5)2-4/h2H,1H3\n",
        "Molecule : INCHI = InChI=1S/C15H12/c1-11-5-4-8-15-13(11)10-9-12-6-2-3-7-14(12)15/h2-10H,1H3\n",
        "Molecule : INCHI = InChI=1S/2C7H14O2/c1-3-5-7(8)9-6-4-2;1-3-5-6(4-2)7(8)9/h3-6H2,1-2H3;6H,3-5H2,1-2H3,(H,8,9)\n",
        "Molecule : INCHI = InChI=1S/C6H14O/c1-3-5-6(7)4-2/h6-7H,3-5H2,1-2H3\n",
        "Molecule : INCHI = InChI=1S/C6H13N/c1-2-4-6-7-5-3-1/h7H,1-6H2\n",
        "Molecule : INCHI = InChI=1S/C4H7N/c1-4(2)3-5/h4H,1-2H3\n",
        "Molecule : INCHI = InChI=1S/C3H3F5O/c4-2(5,1-9)3(6,7)8/h9H,1H2\n",
        "Molecule : INCHI = InChI=1S/C11H10/c1-9-6-7-10-4-2-3-5-11(10)8-9/h2-8H,1H3\n",
        "Molecule : INCHI = InChI=1S/C6H12O2/c1-4-8-6(7)5(2)3/h5H,4H2,1-3H3\n",
        "Molecule : INCHI = InChI=1S/C8H18/c1-7(2)5-6-8(3)4/h7-8H,5-6H2,1-4H3\n",
        "Molecule : INCHI = InChI=1S/C7H14O2/c1-2-3-4-5-6-7(8)9/h2-6H2,1H3,(H,8,9)\n",
        "Molecule : INCHI = InChI=1S/C5H12O/c1-5(2,3)4-6/h6H,4H2,1-3H3\n",
        "Molecule : INCHI = InChI=1S/C4H8Cl2/c1-2-4(6)3-5/h4H,2-3H2,1H3\n",
        "Molecule : INCHI = InChI=1S/C7H14O/c1-6(2)4-5-7(3)8/h6H,4-5H2,1-3H3\n",
        "Molecule : INCHI = InChI=1S/C8H18O/c1-3-5-6-7-8(9)4-2/h8-9H,3-7H2,1-2H3\n",
        "Molecule : INCHI = InChI=1S/2C6H12O2/c1-2-3-4-5-8-6-7;1-2-3-4-5-6(7)8/h6H,2-5H2,1H3;2-5H2,1H3,(H,7,8)\n",
        "Molecule : INCHI = InChI=1S/C10H9N/c1-8-6-7-9-4-2-3-5-10(9)11-8/h2-7H,1H3\n",
        "Molecule : INCHI = InChI=1S/C3H5NO/c1-2-3(4)5/h2H,1H2,(H2,4,5)\n",
        "Molecule : INCHI = InChI=1S/C3H5F3O/c1-2(7)3(4,5)6/h2,7H,1H3\n",
        "Molecule : INCHI = InChI=1S/C7H16O/c1-5(2)7(8)6(3)4/h5-8H,1-4H3\n",
        "Molecule : INCHI = InChI=1S/C4H5N/c1-2-3-4-5/h2H,1,3H2\n",
        "Molecule : INCHI = InChI=1S/2C6H12O/c2*1-5(7)6(2,3)4/h2*1-4H3\n",
        "Molecule : INCHI = InChI=1S/C8H11N/c1-2-7-3-5-8(9)6-4-7/h3-6H,2,9H2,1H3\n",
        "Molecule : INCHI = InChI=1S/C5H12O/c1-3-5(2)4-6/h5-6H,3-4H2,1-2H3\n",
        "Molecule : INCHI = InChI=1S/2C2H6O2/c2*3-1-2-4/h2*3-4H,1-2H2\n",
        "Molecule : INCHI = InChI=1S/C5H4O2/c6-4-5-2-1-3-7-5/h1-4H\n",
        "Molecule : INCHI = InChI=1S/C7H16O/c1-3-5-7(8)6-4-2/h7-8H,3-6H2,1-2H3\n",
        "Molecule : INCHI = InChI=1S/C6H12O2/c1-5(7)8-6(2,3)4/h1-4H3\n",
        "Molecule : INCHI = InChI=1S/C8H18O/c1-3-5-6-8(4-2)7-9/h8-9H,3-7H2,1-2H3\n",
        "Molecule : INCHI = InChI=1S/C6H14O/c1-3-6(4-2)5-7/h6-7H,3-5H2,1-2H3\n",
        "Molecule : INCHI = InChI=1S/CH2O2/c2-1-3/h1H,(H,2,3)\n",
        "Molecule : INCHI = InChI=1S/C12H7Cl3/c13-8-5-6-12(15)10(7-8)9-3-1-2-4-11(9)14/h1-7H\n",
        "Molecule : INCHI = InChI=1S/C4H7ClO/c1-3(5)4(2)6/h3H,1-2H3\n",
        "Molecule : INCHI = InChI=1S/2C4H10O/c2*1-3-5-4-2/h2*3-4H2,1-2H3\n",
        "Molecule : INCHI = InChI=1S/2C3H6O2/c1-3(4)5-2;1-2-3(4)5/h1-2H3;2H2,1H3,(H,4,5)\n",
        "Molecule : INCHI = InChI=1S/C8H16/c1-2-8-6-4-3-5-7-8/h8H,2-7H2,1H3\n",
        "Molecule : INCHI = InChI=1S/C5H10O3/c1-3-7-5(6)8-4-2/h3-4H2,1-2H3\n",
        "Molecule : INCHI = InChI=1S/2C9H18O2/c1-2-3-4-5-6-7-8-11-9-10;1-2-3-4-5-6-7-8-9(10)11/h9H,2-8H2,1H3;2-8H2,1H3,(H,10,11)\n",
        "Molecule : INCHI = InChI=1S/C8H11N/c1-6-4-7(2)9-8(3)5-6/h4-5H,1-3H3\n",
        "Molecule : INCHI = InChI=1S/C3H6Cl2/c1-3(5)2-4/h3H,2H2,1H3\n",
        "Molecule : INCHI = InChI=1S/C8H14/c1-2-4-6-8-7-5-3-1/h1-2H,3-8H2/b2-1-\n",
        "Molecule : INCHI = InChI=1S/2C4H10O/c2*1-3-4-5-2/h2*3-4H2,1-2H3\n",
        "Molecule : INCHI = InChI=1S/C8H8O3/c1-11-8(10)6-4-2-3-5-7(6)9/h2-5,9H,1H3\n",
        "Molecule : INCHI = InChI=1S/C12H8Cl2/c13-10-6-7-12(14)11(8-10)9-4-2-1-3-5-9/h1-8H\n",
        "Molecule : INCHI = InChI=1S/C16H10/c1-2-8-13-12(7-1)14-9-3-5-11-6-4-10-15(13)16(11)14/h1-10H\n",
        "Molecule : INCHI = InChI=1S/C7H14O/c1-3-5-6-7(8)4-2/h3-6H2,1-2H3\n",
        "Molecule : INCHI = InChI=1S/CS2/c2-1-3\n",
        "Molecule : INCHI = InChI=1S/C4Cl6/c5-1(3(7)8)2(6)4(9)10\n",
        "Molecule : INCHI = InChI=1S/C5H9NO/c1-6-4-2-3-5(6)7/h2-4H2,1H3\n",
        "Molecule : INCHI = InChI=1S/C7H7Cl/c1-6-2-4-7(8)5-3-6/h2-5H,1H3\n",
        "Molecule : INCHI = InChI=1S/CHBrCl2/c2-1(3)4/h1H\n",
        "Molecule : INCHI = InChI=1S/C6H12O3/c1-4-7-5(2)9-6(3)8-4/h4-6H,1-3H3\n",
        "Molecule : INCHI = InChI=1S/C7H14O/c8-6-7-4-2-1-3-5-7/h7-8H,1-6H2\n",
        "Molecule : INCHI = InChI=1S/C8H16O/c9-8-6-4-2-1-3-5-7-8/h8-9H,1-7H2\n",
        "Molecule : INCHI = InChI=1S/C7H14O/c1-6-3-2-4-7(8)5-6/h6-8H,2-5H2,1H3\n",
        "Molecule : INCHI = InChI=1S/C2H2Cl3F/c3-1-2(4,5)6/h1H2\n",
        "Molecule : INCHI = InChI=1S/C3H8N2/c1-4-5(2)3/h1H2,2-3H3\n",
        "Molecule : INCHI = InChI=1S/C6H8/c1-2-4-6-5-3-1/h1-2,5-6H,3-4H2\n",
        "Molecule : INCHI = InChI=1S/C6H8O4/c1-9-5(7)3-4-6(8)10-2/h3-4H,1-2H3/b4-3-\n",
        "Molecule : INCHI = InChI=1S/C9H7N/c1-2-4-9-7-10-6-5-8(9)3-1/h1-7H\n",
        "Molecule : INCHI = InChI=1S/C2F4/c3-1(4)2(5)6\n",
        "Molecule : INCHI = InChI=1S/C8H18/c1-5-6-7-8(2,3)4/h5-7H2,1-4H3\n",
        "Molecule : INCHI = InChI=1S/C5H10O/c1-5-3-2-4-6-5/h5H,2-4H2,1H3\n",
        "Molecule : INCHI = InChI=1S/C12H8/c1-3-9-4-2-6-11-8-7-10(5-1)12(9)11/h1-8H\n",
        "Molecule : INCHI = InChI=1S/C4H11NO/c1-6-4-2-3-5/h2-5H2,1H3\n",
        "Molecule : INCHI = InChI=1S/C6H14O/c1-5(2)4-6(3)7/h5-7H,4H2,1-3H3\n",
        "Molecule : INCHI = InChI=1S/C5H8O2/c1-4(6)3-5(2)7/h3H2,1-2H3\n",
        "Molecule : INCHI = InChI=1S/2C8H16O2/c2*1-2-3-4-5-6-7-8(9)10/h2*2-7H2,1H3,(H,9,10)\n",
        "Molecule : INCHI = InChI=1S/C5H13N/c1-3-5-6-4-2/h6H,3-5H2,1-2H3\n",
        "Molecule : INCHI = InChI=1S/C12H26O/c1-2-3-4-5-6-7-8-9-10-11-12-13/h13H,2-12H2,1H3\n",
        "Molecule : INCHI = InChI=1S/2C5H10O2/c1-3-5(6)7-4-2;1-3-4(2)5(6)7/h3-4H2,1-2H3;4H,3H2,1-2H3,(H,6,7)\n",
        "Molecule : INCHI = InChI=1S/C10H12/c1-2-6-10-8-4-3-7-9(10)5-1/h1-2,5-6H,3-4,7-8H2\n",
        "Molecule : INCHI = InChI=1S/C7H16O/c1-3-4-5-6-7(2)8/h7-8H,3-6H2,1-2H3\n",
        "Molecule : INCHI = InChI=1S/C10H18/c1-2-6-10-8-4-3-7-9(10)5-1/h9-10H,1-8H2\n",
        "Molecule : INCHI = InChI=1S/C6H14O/c1-3-4-5-6(2)7/h6-7H,3-5H2,1-2H3\n",
        "Molecule : INCHI = InChI=1S/CHN/c1-2/h1H\n",
        "Molecule : INCHI = InChI=1S/2C5H10O2/c1-4(2)7-5(3)6;1-4(2)3-5(6)7/h4H,1-3H3;4H,3H2,1-2H3,(H,6,7)\n",
        "Molecule : INCHI = InChI=1S/CHBr2Cl/c2-1(3)4/h1H\n",
        "Molecule : INCHI = InChI=1S/C12H8Cl2/c13-10-7-5-9(6-8-10)11-3-1-2-4-12(11)14/h1-8H\n",
        "Molecule : INCHI = InChI=1S/C7H14O/c1-6-4-2-3-5-7(6)8/h6-8H,2-5H2,1H3\n",
        "Molecule : INCHI = InChI=1S/C8H7N/c1-7-4-2-3-5-8(7)6-9/h2-5H,1H3\n",
        "Molecule : INCHI = InChI=1S/2C4H8O2/c1-3-4(5)6-2;1-3(2)4(5)6/h3H2,1-2H3;3H,1-2H3,(H,5,6)\n",
        "Molecule : INCHI = InChI=1S/2C9H18O2/c2*1-2-3-4-5-6-7-8-9(10)11/h2*2-8H2,1H3,(H,10,11)\n",
        "Molecule : INCHI = InChI=1S/C3H3N/c1-2-3-4/h2H,1H2\n",
        "Molecule : INCHI = InChI=1S/C12H5Cl3O2/c13-6-5-7(14)11-12(10(6)15)17-9-4-2-1-3-8(9)16-11/h1-5H\n",
        "Molecule : INCHI = InChI=1S/C4H6O/c1-4(2)3-5/h3H,1H2,2H3\n",
        "Molecule : INCHI = InChI=1S/C8H16O2/c1-3-5-7-10-8(9)6-4-2/h3-7H2,1-2H3\n",
        "Molecule : INCHI = InChI=1S/C12H9Cl/c13-12-9-5-4-8-11(12)10-6-2-1-3-7-10/h1-9H\n",
        "Molecule : INCHI = InChI=1S/C5H10Cl2/c6-4-2-1-3-5-7/h1-5H2\n",
        "Molecule : INCHI = InChI=1S/COS/c2-1-3\n",
        "Molecule : INCHI = InChI=1S/C4H10O/c1-3-4(2)5/h4-5H,3H2,1-2H3\n",
        "Molecule : INCHI = InChI=1S/C8H7N/c1-7-2-4-8(6-9)5-3-7/h2-5H,1H3\n",
        "Molecule : INCHI = InChI=1S/C6H10O4/c1-3-9-5(7)6(8)10-4-2/h3-4H2,1-2H3\n",
        "Molecule : INCHI = InChI=1S/C3H5Cl3/c4-1-3(6)2-5/h3H,1-2H2\n",
        "Molecule : INCHI = InChI=1S/2C6H12O2/c1-3-4-5(2)6(7)8;1-3-5-8-6(7)4-2/h5H,3-4H2,1-2H3,(H,7,8);3-5H2,1-2H3\n",
        "Molecule : INCHI = InChI=1S/C7H14O/c1-4-7(8)5-6(2)3/h6H,4-5H2,1-3H3\n",
        "Molecule : INCHI = InChI=1S/2C6H12O2/c1-4-5(2)8-6(3)7;1-3-5(2)4-6(7)8/h5H,4H2,1-3H3;5H,3-4H2,1-2H3,(H,7,8)\n"
       ]
      }
     ],
     "prompt_number": 3
    },
    {
     "cell_type": "code",
     "collapsed": false,
     "input": [
      "# Quering molecules which don't have associated experiments\n",
      "\n",
      "for mol in ses.query(Molecule).filter(Molecule.Experiments == None).all():\n",
      "    print mol"
     ],
     "language": "python",
     "metadata": {},
     "outputs": [
      {
       "output_type": "stream",
       "stream": "stdout",
       "text": [
        "Molecule : INCHI = InChI=1S/C2H2.CH4.2H2/c1-2;;;/h1-2H;1H4;2*1H\n"
       ]
      }
     ],
     "prompt_number": 4
    },
    {
     "cell_type": "code",
     "collapsed": false,
     "input": [
      "# Molecule contains:\n",
      "\n",
      "for mol in ses.query(Molecule).filter(Molecule.INCHI.contains('C6H6')):\n",
      "    print mol"
     ],
     "language": "python",
     "metadata": {},
     "outputs": [
      {
       "output_type": "stream",
       "stream": "stdout",
       "text": [
        "Molecule : INCHI = InChI=1S/C6H6ClN/c7-5-2-1-3-6(8)4-5/h1-4H,8H2\n",
        "Molecule : INCHI = InChI=1S/C6H6ClN/c7-5-3-1-2-4-6(5)8/h1-4H,8H2\n",
        "Molecule : INCHI = InChI=1S/C6H6N2O2/c7-5-1-3-6(4-2-5)8(9)10/h1-4H,7H2\n",
        "Molecule : INCHI = InChI=1S/C6H6S/c7-6-4-2-1-3-5-6/h1-5,7H\n",
        "Molecule : INCHI = InChI=1S/C6H6N2O2/c7-5-3-1-2-4-6(5)8(9)10/h1-4H,7H2\n",
        "Molecule : INCHI = InChI=1S/C6H6ClN/c7-5-1-3-6(8)4-2-5/h1-4H,8H2\n",
        "Molecule : INCHI = InChI=1S/C6H6Cl6/c7-1-2(8)4(10)6(12)5(11)3(1)9/h1-6H/t1-,2-,3-,4+,5+,6+\n",
        "Molecule : INCHI = InChI=1S/C6H6N2O2/c7-5-2-1-3-6(4-5)8(9)10/h1-4H,7H2\n",
        "Molecule : INCHI = InChI=1S/C6H6O/c7-6-4-2-1-3-5-6/h1-5,7H\n",
        "Molecule : INCHI = InChI=1S/C6H6/c1-2-4-6-5-3-1/h1-6H\n"
       ]
      }
     ],
     "prompt_number": 8
    },
    {
     "cell_type": "code",
     "collapsed": false,
     "input": [
      "# Experiment contains\n",
      "\n",
      "for mol in ses.query(Molecule).outerjoin(Experiment).filter(Experiment.Source.contains('test1059')):\n",
      "    print mol"
     ],
     "language": "python",
     "metadata": {},
     "outputs": [
      {
       "output_type": "stream",
       "stream": "stdout",
       "text": [
        "Molecule : INCHI = InChI=1S/C20H14N2O2/c21-15-10-11-16(22-12-6-2-1-3-7-12)18-17(15)19(23)13-8-4-5-9-14(13)20(18)24/h1-11,22H,21H2\n"
       ]
      }
     ],
     "prompt_number": 9
    },
    {
     "cell_type": "code",
     "collapsed": false,
     "input": [
      "#Counting\n",
      "\n",
      "ses.query(Molecule).filter(Molecule.Experiments != None).filter(Molecule.Conformations != None).count()"
     ],
     "language": "python",
     "metadata": {},
     "outputs": [
      {
       "metadata": {},
       "output_type": "pyout",
       "prompt_number": 15,
       "text": [
        "653L"
       ]
      }
     ],
     "prompt_number": 15
    },
    {
     "cell_type": "code",
     "collapsed": false,
     "input": [
      "#for mol in \n",
      "ses.query(Molecule).filter(Molecule.Experiments != None).filter(Molecule.Conformations != None).count()"
     ],
     "language": "python",
     "metadata": {},
     "outputs": [
      {
       "metadata": {},
       "output_type": "pyout",
       "prompt_number": 14,
       "text": [
        "653L"
       ]
      }
     ],
     "prompt_number": 14
    },
    {
     "cell_type": "code",
     "collapsed": false,
     "input": [
      "ses.query(Conformation).join(Molecule).filter(Molecule.Experiments != None).count()"
     ],
     "language": "python",
     "metadata": {},
     "outputs": [
      {
       "metadata": {},
       "output_type": "pyout",
       "prompt_number": 16,
       "text": [
        "791L"
       ]
      }
     ],
     "prompt_number": 16
    },
    {
     "cell_type": "code",
     "collapsed": false,
     "input": [
      "results = []\n",
      "\n",
      "for conf in ses.query(Conformation).join(Molecule).filter(Molecule.Experiments != None):\n",
      "    results.append(conf.Molecule_INCHI)\n",
      "    results.append(conf.molecule.IUPACName)\n",
      "    calcs = ['', '', '']\n",
      "    for calc in conf.Calculations:\n",
      "        if calc.CalculationType == 'CMCalculation':\n",
      "            if calc.SolvMethod == 'SMD':\n",
      "                calcs[1] += calc.SolvE + '\\n'\n",
      "            elif calc.SolvMethod == 'SMVLE':\n",
      "                calcs[2] += calc.SolvE + '\\n'\n",
      "        elif calc.CalculationType == 'RISMCalculation':\n",
      "            calcs[0] += calc.SolvE + '\\n'\n",
      "            "
     ],
     "language": "python",
     "metadata": {},
     "outputs": [
      {
       "ename": "TypeError",
       "evalue": "'RISMCalculation' object does not support indexing",
       "output_type": "pyerr",
       "traceback": [
        "\u001b[1;31m---------------------------------------------------------------------------\u001b[0m\n\u001b[1;31mTypeError\u001b[0m                                 Traceback (most recent call last)",
        "\u001b[1;32m<ipython-input-18-6f87bcff8de1>\u001b[0m in \u001b[0;36m<module>\u001b[1;34m()\u001b[0m\n\u001b[0;32m     12\u001b[0m                 \u001b[0mcalcs\u001b[0m\u001b[1;33m[\u001b[0m\u001b[1;36m2\u001b[0m\u001b[1;33m]\u001b[0m \u001b[1;33m+=\u001b[0m \u001b[0mcalc\u001b[0m\u001b[1;33m.\u001b[0m\u001b[0mSolvE\u001b[0m \u001b[1;33m+\u001b[0m \u001b[1;34m'\\n'\u001b[0m\u001b[1;33m\u001b[0m\u001b[0m\n\u001b[0;32m     13\u001b[0m         \u001b[1;32melif\u001b[0m \u001b[0mcalc\u001b[0m\u001b[1;33m.\u001b[0m\u001b[0mCalculationType\u001b[0m \u001b[1;33m==\u001b[0m \u001b[1;34m'RISMCalculation'\u001b[0m\u001b[1;33m:\u001b[0m\u001b[1;33m\u001b[0m\u001b[0m\n\u001b[1;32m---> 14\u001b[1;33m             \u001b[0mcalc\u001b[0m\u001b[1;33m[\u001b[0m\u001b[1;36m0\u001b[0m\u001b[1;33m]\u001b[0m \u001b[1;33m+=\u001b[0m \u001b[0mcalc\u001b[0m\u001b[1;33m.\u001b[0m\u001b[0mSolvE\u001b[0m \u001b[1;33m+\u001b[0m \u001b[1;34m'\\n'\u001b[0m\u001b[1;33m\u001b[0m\u001b[0m\n\u001b[0m\u001b[0;32m     15\u001b[0m \u001b[1;33m\u001b[0m\u001b[0m\n",
        "\u001b[1;31mTypeError\u001b[0m: 'RISMCalculation' object does not support indexing"
       ]
      }
     ],
     "prompt_number": 18
    },
    {
     "cell_type": "code",
     "collapsed": false,
     "input": [],
     "language": "python",
     "metadata": {},
     "outputs": []
    }
   ],
   "metadata": {}
  }
 ]
}